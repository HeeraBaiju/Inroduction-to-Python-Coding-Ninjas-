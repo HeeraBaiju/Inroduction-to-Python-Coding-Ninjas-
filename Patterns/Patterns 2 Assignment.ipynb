{
 "cells": [
  {
   "cell_type": "markdown",
   "id": "104f22bf",
   "metadata": {},
   "source": [
    "Number Pattern\n",
    "Send Feedback\n",
    "Print the following pattern for n number of rows.\n",
    "Note: each line consist of equal number of characters + spaces. Suppose you are printing xth line for N=n. You need to print 1..x followed by (n-x) spaces, again (n-x) spaces followed by x..1\n",
    "For eg. N = 5 \n",
    "\n",
    "Sample Input 1 :\n",
    "4\n",
    "Sample Output 1 :\n"
   ]
  },
  {
   "cell_type": "code",
   "execution_count": 2,
   "id": "ecdc8198",
   "metadata": {},
   "outputs": [
    {
     "name": "stdout",
     "output_type": "stream",
     "text": [
      "4\n",
      "1      1\n",
      "12    21\n",
      "123  321\n",
      "12344321\n"
     ]
    }
   ],
   "source": [
    "n = int(input())\n",
    "d = n - 1\n",
    "i = 1\n",
    "while i <= n:\n",
    "    # Increasing number (right triangle)\n",
    "    j = 1\n",
    "    while j <= i:\n",
    "        print(j, end='')\n",
    "        j += 1\n",
    "    # Space (in Inverted triangle order)\n",
    "    space = 1\n",
    "    while space <= n - i + d:\n",
    "#        print(\"@\", end='')\n",
    "        print(\" \", end='')\n",
    "        space += 1\n",
    "    # Increasing number (Mirror Image)\n",
    "    p = i\n",
    "    while p >= 1:\n",
    "        print(p, end='')\n",
    "        p -= 1\n",
    "    #\n",
    "    print()\n",
    "    i += 1\n",
    "    d -= 1"
   ]
  },
  {
   "cell_type": "markdown",
   "id": "8e6f34f0",
   "metadata": {},
   "source": [
    "Zeros and Stars Pattern"
   ]
  },
  {
   "cell_type": "code",
   "execution_count": 3,
   "id": "8ee8d5b2",
   "metadata": {},
   "outputs": [
    {
     "name": "stdout",
     "output_type": "stream",
     "text": [
      "5\n",
      "*0000*0000*\n",
      "0*000*000*0\n",
      "00*00*00*00\n",
      "000*0*0*000\n",
      "0000***0000\n"
     ]
    }
   ],
   "source": [
    "## Read input as specified in the question.\n",
    "## Print output as specified in the question.\n",
    "n = int(input())\n",
    "\n",
    "i = 1\n",
    "while i <= n:  #this loop is used to print n\n",
    "    ######\n",
    "    j = 1\n",
    "    while j <= n:      #this loop is used to print n\n",
    "        if i == j:\n",
    "            print(\"*\", end='')\n",
    "        else:\n",
    "            print(\"0\", end='')\n",
    "        j = j + 1\n",
    "    ######\n",
    "    j = j - 1;\n",
    "    print(\"*\", end='')\n",
    "    while j >= 1:  #this loop is used to print n\n",
    "        if i == j:\n",
    "            print(\"*\", end='')\n",
    "        else:\n",
    "            print(\"0\", end='')\n",
    "        j = j - 1\n",
    "    print();\n",
    "    i = i + 1"
   ]
  },
  {
   "cell_type": "markdown",
   "id": "0f05d005",
   "metadata": {},
   "source": [
    "Pyramid Number Pattern"
   ]
  },
  {
   "cell_type": "code",
   "execution_count": 4,
   "id": "acc195a5",
   "metadata": {},
   "outputs": [
    {
     "name": "stdout",
     "output_type": "stream",
     "text": [
      "5\n",
      "    1\n",
      "   212\n",
      "  32123\n",
      " 4321234\n",
      "543212345\n"
     ]
    }
   ],
   "source": [
    "## Read input as specified in the question.\n",
    "## Print output as specified in the question.\n",
    "n = int(input())\n",
    "\n",
    "i = 1\n",
    "while i <= n:\n",
    "    # Space (Inverted)\n",
    "    space = 1\n",
    "    while space <= n - i:\n",
    "        #print(\"@\", end='')\n",
    "        print(\" \", end='')\n",
    "        space += 1\n",
    "    #Printing numbers\n",
    "    j = 1\n",
    "    no_print = i\n",
    "    while j <= i:\n",
    "        print(no_print, end='')\n",
    "        no_print -= 1\n",
    "        j += 1\n",
    "    # Printing second half\n",
    "    p = 2\n",
    "    while p <= i:\n",
    "        print(p, end='')\n",
    "        p += 1\n",
    "    #\n",
    "    print()\n",
    "    i += 1\n",
    "   \n",
    " "
   ]
  },
  {
   "cell_type": "markdown",
   "id": "12144219",
   "metadata": {},
   "source": [
    "Arrow pattern"
   ]
  },
  {
   "cell_type": "code",
   "execution_count": 5,
   "id": "34e7a162",
   "metadata": {},
   "outputs": [
    {
     "name": "stdout",
     "output_type": "stream",
     "text": [
      "11\n",
      "* \n",
      " * * \n",
      "  * * * \n",
      "   * * * * \n",
      "    * * * * * \n",
      "     * * * * * * \n",
      "    * * * * * \n",
      "   * * * * \n",
      "  * * * \n",
      " * * \n",
      "* \n"
     ]
    }
   ],
   "source": [
    "## Read input as specified in the question.\n",
    "## Print output as specified in the question.\n",
    "n = int(input())\n",
    "\n",
    "i = 1\n",
    "firsthalf_rows =  n // 2 + 1\n",
    "secondhalf_rows = n // 2\n",
    "while i <= firsthalf_rows:\n",
    "    # Space triangle\n",
    "    space1 = 1\n",
    "    while space1 <= i - 1:\n",
    "#        print(\"@\", end='')\n",
    "        print(\" \", end='')\n",
    "        space1 += 1\n",
    "    # Print star (triangle)\n",
    "    j = 1\n",
    "    while j <= i:\n",
    "        print(\"* \", end='')\n",
    "        j += 1\n",
    "    #\n",
    "    print()\n",
    "    i += 1\n",
    "\n",
    "# Printing second half\n",
    "i = 1\n",
    "while i <= secondhalf_rows:\n",
    "    # Space (Inverted triangle)\n",
    "    space2 = 1\n",
    "    while space2 <= secondhalf_rows - i:\n",
    "        # print(\"@\", end='')\n",
    "        print(\" \", end='')\n",
    "        space2 += 1\n",
    "    # Inverted triangle\n",
    "#    j = 1\n",
    "#    while j <= secondhalf_rows - i + 1:\n",
    "#       print(\"* \", end='')\n",
    "#        j += 1\n",
    "    j = secondhalf_rows\n",
    "    while j >= i:\n",
    "        print(\"* \", end='')\n",
    "        j -= 1\n",
    "    #\n",
    "    print()\n",
    "    i += 1"
   ]
  }
 ],
 "metadata": {
  "kernelspec": {
   "display_name": "Python 3 (ipykernel)",
   "language": "python",
   "name": "python3"
  },
  "language_info": {
   "codemirror_mode": {
    "name": "ipython",
    "version": 3
   },
   "file_extension": ".py",
   "mimetype": "text/x-python",
   "name": "python",
   "nbconvert_exporter": "python",
   "pygments_lexer": "ipython3",
   "version": "3.9.12"
  }
 },
 "nbformat": 4,
 "nbformat_minor": 5
}

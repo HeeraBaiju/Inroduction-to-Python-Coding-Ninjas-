{
 "cells": [
  {
   "cell_type": "code",
   "execution_count": 1,
   "id": "ac2d6fc0",
   "metadata": {},
   "outputs": [
    {
     "name": "stdout",
     "output_type": "stream",
     "text": [
      "5\n",
      "5432*\n",
      "543*1\n",
      "54*21\n",
      "5*321\n",
      "*4321\n"
     ]
    }
   ],
   "source": [
    "#Number Star pattern 1\n",
    "\n",
    "n=int(input())\n",
    "for i in range(1,n+1):\n",
    "    for j in range(n,0,-1):\n",
    "        if j==i:\n",
    "            print(\"*\",end=\"\")\n",
    "        else:\n",
    "        \tprint(j,end=\"\")\n",
    "    print()\n"
   ]
  },
  {
   "cell_type": "code",
   "execution_count": 2,
   "id": "9b1b8dd9",
   "metadata": {},
   "outputs": [
    {
     "name": "stdout",
     "output_type": "stream",
     "text": [
      "3\n",
      "*00*00*\n",
      "0*0*0*0\n",
      "00***00\n"
     ]
    }
   ],
   "source": [
    "#Zeros and Stars Pattern\n",
    "\n",
    "## Read input as specified in the question.\n",
    "## Print output as specified in the question.\n",
    "n = int(input())\n",
    "i = 1\n",
    "star = 1\n",
    "while i <= n:\n",
    "    j = 1\n",
    "    while j <= 2*n + 1:\n",
    "        if star == i and star == j:\n",
    "            print('*', end=\"\")\n",
    "            star = star + 1\n",
    "\n",
    "        elif j == n + 1 or j == 2*n+2 - i:\n",
    "            print('*', end=\"\")\n",
    "        else:\n",
    "            print(0, end=\"\")\n",
    "        j = j + 1\n",
    "    print()\n",
    "    i = i + 1"
   ]
  },
  {
   "cell_type": "code",
   "execution_count": null,
   "id": "5117b47b",
   "metadata": {},
   "outputs": [],
   "source": [
    "#Check Armstrong"
   ]
  },
  {
   "cell_type": "code",
   "execution_count": 3,
   "id": "a44b54f9",
   "metadata": {},
   "outputs": [
    {
     "name": "stdout",
     "output_type": "stream",
     "text": [
      "1\n",
      "true\n"
     ]
    }
   ],
   "source": [
    "## Read input as specified in the question.\n",
    "## Print output as specified in the question.\n",
    "num = input()\n",
    "n = [int(i) for i in num]\n",
    "count = 0\n",
    "for j in range(len(n)):\n",
    "    count = count+n[j]**len(n)\n",
    "if count == int(num):\n",
    "    print(\"true\")\n",
    "else:\n",
    "    print(\"false\")"
   ]
  }
 ],
 "metadata": {
  "kernelspec": {
   "display_name": "Python 3 (ipykernel)",
   "language": "python",
   "name": "python3"
  },
  "language_info": {
   "codemirror_mode": {
    "name": "ipython",
    "version": 3
   },
   "file_extension": ".py",
   "mimetype": "text/x-python",
   "name": "python",
   "nbconvert_exporter": "python",
   "pygments_lexer": "ipython3",
   "version": "3.9.12"
  }
 },
 "nbformat": 4,
 "nbformat_minor": 5
}

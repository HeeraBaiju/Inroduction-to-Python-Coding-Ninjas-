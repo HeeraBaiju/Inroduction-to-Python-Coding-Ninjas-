{
 "cells": [
  {
   "cell_type": "code",
   "execution_count": 1,
   "id": "8205077b",
   "metadata": {},
   "outputs": [
    {
     "name": "stdout",
     "output_type": "stream",
     "text": [
      "3\n",
      "9 8 9\n",
      "26\n"
     ]
    }
   ],
   "source": [
    "#Array Sum\n",
    "\n",
    "n = int(input())\n",
    "list_n = input().split(' ')\n",
    "\n",
    "sum = 0\n",
    "for i in range(n):\n",
    "    sum = sum + int(list_n[i])\n",
    "\n",
    "print(sum)"
   ]
  },
  {
   "cell_type": "code",
   "execution_count": null,
   "id": "d6a8cdca",
   "metadata": {},
   "outputs": [],
   "source": [
    "#Swap Alternate"
   ]
  },
  {
   "cell_type": "code",
   "execution_count": 8,
   "id": "9e34c11b",
   "metadata": {},
   "outputs": [
    {
     "name": "stdout",
     "output_type": "stream",
     "text": [
      "1\n",
      "6\n",
      "9 3 6 12 4 32\n",
      "3 9 12 6 32 4 \n"
     ]
    }
   ],
   "source": [
    "import sys\n",
    "from sys import stdin\n",
    "def swapalternate(arr, n):\n",
    "    for i in range(0, (n-1), 2):\n",
    "        temp = arr[i]\n",
    "        arr[i] = arr[i+1]\n",
    "        arr[i+1] = temp\n",
    "    \n",
    "\n",
    "    for i in range(n):\n",
    "        print(arr[i], end = \" \")\n",
    "    print()\n",
    "        \n",
    "        \n",
    "def takeinput():\n",
    "    n = int(input())\n",
    "    if n == 0:\n",
    "        return list(), 0\n",
    "    arr =  [ int (x) for x in input ().split()]\n",
    "    return arr, n\n",
    "    \n",
    "    \n",
    "\n",
    "t = int(input())    \n",
    "while t > 0:\n",
    "    arr, n = takeinput()\n",
    "    if n!= 0:\n",
    "        \n",
    "        swapalternate(arr, n)\n",
    "        \n",
    "    t = t-1\n",
    "        \n",
    "        \n"
   ]
  },
  {
   "cell_type": "code",
   "execution_count": 12,
   "id": "ece0f412",
   "metadata": {},
   "outputs": [
    {
     "name": "stdout",
     "output_type": "stream",
     "text": [
      "1\n",
      "7\n",
      "2 3 1 6 3 6 2\n",
      "1\n"
     ]
    }
   ],
   "source": [
    "\n",
    "import sys\n",
    "\n",
    "def findUnique(arr, n):\n",
    "    for i in range(n):\n",
    "        j = 0\n",
    "        while j<n:\n",
    "            if i != j:\n",
    "                if arr[i]==arr[j]:\n",
    "                    break\n",
    "            j += 1\n",
    "\n",
    "            if j == n:\n",
    "                return arr[i]\n",
    "\n",
    "        #return 0 i=0  j=1 vare check cheythullu 1 l unique aanel break cheyth nere thazhek varum returns 0. j muzhuvan check cheythitte aakavoo.\n",
    "    return 0        \n",
    "            \n",
    "def takeInput():\n",
    "    n = int(input())\n",
    "    if n == 0:\n",
    "        return list(), 0\n",
    "    arr = [ int (x) for x in input ().split()]\n",
    "    return arr, n\n",
    "\n",
    "# Main\n",
    "t = int(input())\n",
    "while t > 0:\n",
    "    arr, n = takeInput()\n",
    "    print(findUnique(arr, n))\n",
    "    t -= 1\n",
    "\n"
   ]
  },
  {
   "cell_type": "code",
   "execution_count": 13,
   "id": "27df0fe0",
   "metadata": {},
   "outputs": [
    {
     "name": "stdout",
     "output_type": "stream",
     "text": [
      "1\n",
      "5\n",
      "0 2 1 3 1\n",
      "1\n"
     ]
    }
   ],
   "source": [
    "#Find Duplicate\n",
    "\n",
    "import sys\n",
    "\n",
    "def duplicateNumber(arr, size):\n",
    "    for i in range(size - 1):\n",
    "        for j in range(i + 1, size):\n",
    "            if arr[i] == arr[j]:\n",
    "                return arr[i]\n",
    "\n",
    "    return sys.maxsize\n",
    "\n",
    "\n",
    "def takeInput():\n",
    "    n = int(input())\n",
    "    if n == 0:\n",
    "        return list(), 0\n",
    "    arr = [ int (x) for x in input ().split()]\n",
    "    return arr, n\n",
    "\n",
    "# Main\n",
    "t = int(input())\n",
    "while t > 0:\n",
    "    arr, n = takeInput()\n",
    "    print(duplicateNumber(arr, n))\n",
    "    t -= 1"
   ]
  },
  {
   "cell_type": "code",
   "execution_count": 15,
   "id": "c0b08fce",
   "metadata": {},
   "outputs": [
    {
     "name": "stdout",
     "output_type": "stream",
     "text": [
      "1\n",
      "4\n",
      "2 6 1 2\n",
      "5\n",
      "1 2 3 4 2\n",
      "2 1 2 \n"
     ]
    }
   ],
   "source": [
    "#Intersection of Two Arrays II\n",
    "\n",
    "import sys\n",
    "\n",
    "def intersections(arr1, n, arr2, m):\n",
    "    for i in range(n):\n",
    "        for j in range(m):\n",
    "            if arr1[i] == arr2[j]:\n",
    "                print(arr1[i], end=\" \")\n",
    "                arr2[j] = sys.maxsize\n",
    "                break\n",
    "\n",
    "def takeInput():\n",
    "    n = int(input())\n",
    "    if n == 0:\n",
    "        return list(), 0\n",
    "    arr = [ int (x) for x in input ().split()]\n",
    "    return arr, n\n",
    "\n",
    "# Main\n",
    "t = int(input())\n",
    "while t > 0:\n",
    "    arr1, n = takeInput()\n",
    "    arr2, m = takeInput()\n",
    "\n",
    "    intersections(arr1, n, arr2, m)\n",
    "    print()\n",
    "    \n",
    "    t -= 1"
   ]
  },
  {
   "cell_type": "markdown",
   "id": "bce8abc9",
   "metadata": {},
   "source": [
    "#Pair Sum"
   ]
  },
  {
   "cell_type": "code",
   "execution_count": 17,
   "id": "1d4e2bea",
   "metadata": {},
   "outputs": [
    {
     "name": "stdout",
     "output_type": "stream",
     "text": [
      "1\n",
      "9\n",
      "1 3 6 2 5 4 3 2 4\n",
      "7\n",
      "7\n"
     ]
    }
   ],
   "source": [
    "from sys import stdin\n",
    "\n",
    "def pairSum(arr, size, x):\n",
    "    numPairs = 0\n",
    "    for i in range(size):\n",
    "        for j in range(i+1, size):\n",
    "            if arr[i] + arr[j] == x:\n",
    "                numPairs += 1\n",
    "    return numPairs\n",
    "\n",
    "def takeInput():\n",
    "    n = int(input())\n",
    "    if n == 0:\n",
    "        return list(), 0\n",
    "    arr = [ int (x) for x in input ().split()]\n",
    "    return arr, n\n",
    "\n",
    "# Main\n",
    "t = int(input())\n",
    "while t > 0:\n",
    "    arr, n = takeInput()\n",
    "    x = int(input())\n",
    "    \n",
    "    print(pairSum(arr, n, x))\n",
    "    \n",
    "    t -= 1"
   ]
  },
  {
   "cell_type": "code",
   "execution_count": 18,
   "id": "488dabe7",
   "metadata": {},
   "outputs": [
    {
     "name": "stdout",
     "output_type": "stream",
     "text": [
      "1\n",
      "7\n",
      "1 2 3 4 5 6 7 \n",
      "12\n",
      "5\n"
     ]
    }
   ],
   "source": [
    "#Triplet Sum\n",
    "\n",
    "\n",
    "from sys import stdin\n",
    "\n",
    "def findTriplet(arr, n, x):\n",
    "    numTriplets=0\n",
    "\n",
    "    for i in range(n):\n",
    "        for j in range(i+1, n):\n",
    "            for k in range(j+1, n):\n",
    "                if arr[i] + arr[j] + arr[k] == x:\n",
    "                    numTriplets += 1\n",
    "    return numTriplets\n",
    "\n",
    "def takeInput():\n",
    "    n = int(input())\n",
    "    if n == 0:\n",
    "        return list(), 0\n",
    "    arr = [ int (x) for x in input ().split()]\n",
    "    return arr, n\n",
    "\n",
    "# Main\n",
    "t = int(input())\n",
    "while t > 0:\n",
    "    arr, n = takeInput()\n",
    "    x = int(input())\n",
    "    \n",
    "    print(findTriplet(arr, n, x))\n",
    "    \n",
    "    t -= 1"
   ]
  },
  {
   "cell_type": "code",
   "execution_count": 19,
   "id": "ed318c08",
   "metadata": {},
   "outputs": [
    {
     "name": "stdout",
     "output_type": "stream",
     "text": [
      "1\n",
      "7\n",
      "0 1 1 0 1 0 1\n",
      "0 0 0 1 1 1 1 \n"
     ]
    }
   ],
   "source": [
    "# Sort 0 1\n",
    "\n",
    "from sys import stdin\n",
    "\n",
    "def sortZerosAndOne(arr, n):\n",
    "    nextZero = 0\n",
    "    for i in range(n):\n",
    "        if arr[i]==0:\n",
    "            temp=arr[nextZero]\n",
    "            arr[nextZero]=arr[i]\n",
    "            arr[i]=temp\n",
    "            nextZero += 1\n",
    "\n",
    "def takeInput():\n",
    "    n = int(input())\n",
    "    if n==0:\n",
    "        return list(), 0\n",
    "    arr=[ int (x) for x in input ().split()]\n",
    "    return arr, n\n",
    "\n",
    "def printList(arr, n):\n",
    "    for i in range(n):\n",
    "        print(arr[i], end=\" \")\n",
    "    print()\n",
    "\n",
    "# Main\n",
    "\n",
    "t=int(input())\n",
    "while t>0:\n",
    "    arr, n = takeInput()\n",
    "    sortZerosAndOne(arr, n)\n",
    "    printList(arr, n)\n",
    "    \n",
    "    t -= 1"
   ]
  }
 ],
 "metadata": {
  "kernelspec": {
   "display_name": "Python 3 (ipykernel)",
   "language": "python",
   "name": "python3"
  },
  "language_info": {
   "codemirror_mode": {
    "name": "ipython",
    "version": 3
   },
   "file_extension": ".py",
   "mimetype": "text/x-python",
   "name": "python",
   "nbconvert_exporter": "python",
   "pygments_lexer": "ipython3",
   "version": "3.9.12"
  }
 },
 "nbformat": 4,
 "nbformat_minor": 5
}

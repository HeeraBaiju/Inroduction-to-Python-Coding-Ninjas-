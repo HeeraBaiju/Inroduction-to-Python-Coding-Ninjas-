{
 "cells": [
  {
   "cell_type": "code",
   "execution_count": 1,
   "id": "db3170e2",
   "metadata": {},
   "outputs": [
    {
     "name": "stdout",
     "output_type": "stream",
     "text": [
      "Hello\n",
      "Hello\n"
     ]
    }
   ],
   "source": [
    "print(\"Hello\")      # Automatically adds new line\n",
    "print(\"Hello\")"
   ]
  },
  {
   "cell_type": "markdown",
   "id": "8d527cba",
   "metadata": {},
   "source": [
    "VARIABLES"
   ]
  },
  {
   "cell_type": "code",
   "execution_count": 2,
   "id": "eb9b6bc1",
   "metadata": {
    "scrolled": true
   },
   "outputs": [
    {
     "name": "stdout",
     "output_type": "stream",
     "text": [
      "100\n"
     ]
    }
   ],
   "source": [
    "# Digits can't be used as first letter of variable. Eg. 1abc is wrong.\n",
    "\n",
    "a = 10\n",
    "b = 90\n",
    "sum = a+b\n",
    "print(sum)"
   ]
  },
  {
   "cell_type": "code",
   "execution_count": 3,
   "id": "e1a332cf",
   "metadata": {},
   "outputs": [
    {
     "name": "stdout",
     "output_type": "stream",
     "text": [
      "<class 'int'>\n",
      "<class 'str'>\n",
      "Hello\n"
     ]
    }
   ],
   "source": [
    "# Dynamic typing means that the type of the variable is determined only during runtime. Python is dynamically typed.\n",
    "a = 25\n",
    "print(type(a))\n",
    "a = 'Hello'\n",
    "print(type(a))\n",
    "print(a)"
   ]
  },
  {
   "cell_type": "markdown",
   "id": "93a749a1",
   "metadata": {},
   "source": [
    "NUMBERS IN PYTHON - There is no size of integers or any other datatype in python"
   ]
  },
  {
   "cell_type": "code",
   "execution_count": 4,
   "id": "ea235b89",
   "metadata": {},
   "outputs": [
    {
     "name": "stdout",
     "output_type": "stream",
     "text": [
      "<class 'int'>\n",
      "<class 'float'>\n",
      "<class 'complex'>\n"
     ]
    }
   ],
   "source": [
    "a1 = 12\n",
    "a2 = 3.5\n",
    "a3 = 5 + 2j\n",
    "print(type(a1))\n",
    "print(type(a2))\n",
    "print(type(a3))"
   ]
  },
  {
   "cell_type": "code",
   "execution_count": 5,
   "id": "5b7d9e23",
   "metadata": {},
   "outputs": [
    {
     "name": "stdout",
     "output_type": "stream",
     "text": [
      "3044199590320\n",
      "3044199590384\n",
      "Id of a = 3044199590384\n",
      "Id of b = 3044199590384\n",
      "Id of a = 3044282247600\n",
      "Id of b = 3044282247568\n"
     ]
    }
   ],
   "source": [
    "# id function gives a specific number associated with storage or address \n",
    "a = 5\n",
    "print(id(a))\n",
    "a = a + 2\n",
    "print(id(a))\n",
    "\n",
    "# from value -5 to 256, id is same for different variables\n",
    "b = 7\n",
    "print(\"Id of a =\", id(a))\n",
    "print(\"Id of b =\", id(b))\n",
    "\n",
    "# Value not in range -5 to 256, id is different for different variables\n",
    "a = 1000\n",
    "b = 1000\n",
    "print(\"Id of a =\", id(a))\n",
    "print(\"Id of b =\", id(b))"
   ]
  },
  {
   "cell_type": "code",
   "execution_count": null,
   "id": "d36032b5",
   "metadata": {},
   "outputs": [],
   "source": [
    "ARITHMETIC OPERATORS"
   ]
  },
  {
   "cell_type": "code",
   "execution_count": 6,
   "id": "6eead2fd",
   "metadata": {},
   "outputs": [
    {
     "name": "stdout",
     "output_type": "stream",
     "text": [
      "15\n",
      "5\n",
      "50\n",
      "2.0\n",
      "2\n",
      "0\n",
      "100000\n"
     ]
    }
   ],
   "source": [
    "\n",
    "a = 10\n",
    "b = 5\n",
    "print(a + b)\n",
    "print(a - b)\n",
    "print(a * b)\n",
    "print(a / b)    # Floating point division\n",
    "print(a // b)   # Integer division - Quotient\n",
    "print(a % b)    # Modulus - Remainder\n",
    "print(a ** b)   # a power b"
   ]
  },
  {
   "cell_type": "markdown",
   "id": "3e552c2f",
   "metadata": {},
   "source": [
    "Input - Output Operations"
   ]
  },
  {
   "cell_type": "code",
   "execution_count": 9,
   "id": "be86bcdd",
   "metadata": {
    "scrolled": true
   },
   "outputs": [
    {
     "name": "stdout",
     "output_type": "stream",
     "text": [
      "9\n",
      "10\n",
      "<class 'str'>\n",
      "<class 'str'>\n",
      "910 \n",
      "\n",
      "9\n",
      "10\n",
      "<class 'int'>\n",
      "<class 'int'>\n",
      "19 \n",
      "\n",
      "9\n",
      "10\n",
      "<class 'float'>\n",
      "<class 'float'>\n",
      "19.0\n"
     ]
    }
   ],
   "source": [
    "\n",
    "a = input()\n",
    "b = input()\n",
    "print(type(a))\n",
    "print(type(b))\n",
    "print(a+b, '\\n') #STRING CONCATENATION\n",
    "\n",
    "a = int(input())\n",
    "b = int(input())\n",
    "print(type(a))\n",
    "print(type(b))\n",
    "print(a+b, '\\n') #INT ADDITION\n",
    "\n",
    "a = float(input())\n",
    "b = float(input())\n",
    "print(type(a))\n",
    "print(type(b))\n",
    "print(a+b) # FLOAT ADDITION"
   ]
  }
 ],
 "metadata": {
  "kernelspec": {
   "display_name": "Python 3 (ipykernel)",
   "language": "python",
   "name": "python3"
  },
  "language_info": {
   "codemirror_mode": {
    "name": "ipython",
    "version": 3
   },
   "file_extension": ".py",
   "mimetype": "text/x-python",
   "name": "python",
   "nbconvert_exporter": "python",
   "pygments_lexer": "ipython3",
   "version": "3.9.12"
  }
 },
 "nbformat": 4,
 "nbformat_minor": 5
}

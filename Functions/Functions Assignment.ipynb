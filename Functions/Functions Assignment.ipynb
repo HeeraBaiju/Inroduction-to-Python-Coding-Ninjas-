{
 "cells": [
  {
   "cell_type": "markdown",
   "id": "0e9afd39",
   "metadata": {},
   "source": [
    "Fahrenheit to Celsius Function"
   ]
  },
  {
   "cell_type": "code",
   "execution_count": 2,
   "id": "97bdf9ad",
   "metadata": {},
   "outputs": [
    {
     "name": "stdout",
     "output_type": "stream",
     "text": [
      "0\n",
      "100\n",
      "20\n",
      "0   -17\n",
      "20   -6\n",
      "40   4\n",
      "60   15\n",
      "80   26\n",
      "100   37\n"
     ]
    }
   ],
   "source": [
    "def printTable(start,end,step):\n",
    "    curr_temp = start\n",
    "\n",
    "    while curr_temp <= end:\n",
    "        c = 5/9 * (curr_temp-32)\n",
    "        print(curr_temp, \" \", int(c))\n",
    "        curr_temp = curr_temp+step\n",
    "pass \n",
    "   \n",
    "s = int(input())\n",
    "e = int(input())\n",
    "step = int(input())\n",
    "printTable(s,e,step)\n"
   ]
  },
  {
   "cell_type": "markdown",
   "id": "e1c328bd",
   "metadata": {},
   "source": [
    "Fibonacci Member"
   ]
  },
  {
   "cell_type": "code",
   "execution_count": 3,
   "id": "f328974b",
   "metadata": {},
   "outputs": [
    {
     "name": "stdout",
     "output_type": "stream",
     "text": [
      "5\n",
      "true\n"
     ]
    }
   ],
   "source": [
    "import math\n",
    "def isPerfectSquare(x): \n",
    "    s = int(math.sqrt(x)) \n",
    "    return s*s == x \n",
    "\n",
    "def checkMember(n):\n",
    "    return isPerfectSquare(5*n*n + 4) or isPerfectSquare(5*n*n - 4) \n",
    "pass\n",
    "\n",
    "\n",
    "\n",
    "n=int(input())\n",
    "if(checkMember(n)):\n",
    "    print(\"true\")\n",
    "else:\n",
    "    print(\"false\")"
   ]
  },
  {
   "cell_type": "markdown",
   "id": "4c2b6c37",
   "metadata": {},
   "source": [
    "Palindrome number"
   ]
  },
  {
   "cell_type": "code",
   "execution_count": 4,
   "id": "0faec8bb",
   "metadata": {},
   "outputs": [
    {
     "name": "stdout",
     "output_type": "stream",
     "text": [
      "121\n",
      "true\n"
     ]
    }
   ],
   "source": [
    "def checkPalindrome(num):\n",
    "    numb=str(num)\n",
    "    temp=numb\n",
    "    if numb[::-1]==temp:\n",
    "        return 1\n",
    "    else:\n",
    "        return 0\n",
    "pass\n",
    "num = int(input())\n",
    "isPalindrome = checkPalindrome(num)\n",
    "if(isPalindrome):\n",
    "    print('true')\n",
    "else:\n",
    "    print('false')"
   ]
  },
  {
   "cell_type": "markdown",
   "id": "cc654dc3",
   "metadata": {},
   "source": [
    "Check Armstrong"
   ]
  },
  {
   "cell_type": "code",
   "execution_count": 1,
   "id": "d5e09f5b",
   "metadata": {
    "scrolled": true
   },
   "outputs": [
    {
     "name": "stdout",
     "output_type": "stream",
     "text": [
      "1\n",
      "true\n"
     ]
    }
   ],
   "source": [
    "## Read input as specified in the question.\n",
    "## Print output as specified in the question.\n",
    "def power(base, n):\n",
    "    power = 1\n",
    "    for x in range(1, n + 1):\n",
    "        power = power * base\n",
    "    return power\n",
    "\n",
    "def checkArmstrong (n):\n",
    "    checkNum = n\n",
    "    count = 0\n",
    "\n",
    "    while checkNum > 0:\n",
    "        rem = checkNum % 10\n",
    "        checkNum //= 10\n",
    "        count += 1\n",
    "    power_d = count\n",
    "    # print(\"power_d\", power_d)\n",
    "    \n",
    "    checkNum = n\n",
    "    armstrongPower = 0\n",
    "\n",
    "    while checkNum > 0:\n",
    "        base_d = checkNum % 10\n",
    "        # print(\"base_d\", base_d)\n",
    "        armstrongPower = armstrongPower + power(base_d, power_d)\n",
    "        # print(\"armstrongPower\", armstrongPower)\n",
    "        checkNum //= 10\n",
    "    # print(armstrongPower, \" \", n)\n",
    "    return armstrongPower == n\n",
    "\n",
    "# Driver Code\n",
    "n = int(input())\n",
    "nIsArmstrong = checkArmstrong(n)\n",
    "if nIsArmstrong:\n",
    "    print(\"true\")\n",
    "else:\n",
    "    print(\"false\")"
   ]
  }
 ],
 "metadata": {
  "kernelspec": {
   "display_name": "Python 3 (ipykernel)",
   "language": "python",
   "name": "python3"
  },
  "language_info": {
   "codemirror_mode": {
    "name": "ipython",
    "version": 3
   },
   "file_extension": ".py",
   "mimetype": "text/x-python",
   "name": "python",
   "nbconvert_exporter": "python",
   "pygments_lexer": "ipython3",
   "version": "3.9.12"
  }
 },
 "nbformat": 4,
 "nbformat_minor": 5
}

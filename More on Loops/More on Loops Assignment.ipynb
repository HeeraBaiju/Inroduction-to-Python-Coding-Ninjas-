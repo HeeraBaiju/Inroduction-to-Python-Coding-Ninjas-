{
 "cells": [
  {
   "cell_type": "markdown",
   "id": "ce81e1db",
   "metadata": {},
   "source": [
    "Binary Pattern"
   ]
  },
  {
   "cell_type": "code",
   "execution_count": 1,
   "id": "26fd5bf3",
   "metadata": {},
   "outputs": [
    {
     "name": "stdout",
     "output_type": "stream",
     "text": [
      "5\n",
      "11111\n",
      "0000\n",
      "111\n",
      "00\n",
      "1\n"
     ]
    }
   ],
   "source": [
    "## Read input as specified in the question.\n",
    "## Print output as specified in the question.\n",
    "n=int(input())\n",
    "for i in range(0,n):\n",
    "    for j in range(n-i,0,-1):\n",
    "        if(i%2==0):\n",
    "            print(1,end=\"\")\n",
    "        else:\n",
    "            print(0,end=\"\")\n",
    "    print()"
   ]
  },
  {
   "cell_type": "markdown",
   "id": "b4a5fa2b",
   "metadata": {},
   "source": [
    "Print Number pyramid"
   ]
  },
  {
   "cell_type": "code",
   "execution_count": 2,
   "id": "1822ed2d",
   "metadata": {},
   "outputs": [
    {
     "name": "stdout",
     "output_type": "stream",
     "text": [
      "6\n",
      "123456\n",
      " 23456\n",
      "  3456\n",
      "   456\n",
      "    56\n",
      "     6\n",
      "    56\n",
      "   456\n",
      "  3456\n",
      " 23456\n",
      "123456\n"
     ]
    }
   ],
   "source": [
    "## Read input as specified in the question.\n",
    "## Print output as specified in the question.\n",
    "n = int(input())\n",
    "for i in range(1,n+1):\n",
    "    count = 1\n",
    "    for j in range(1,i):\n",
    "        print(\" \",end=\"\")\n",
    "        count = count + 1\n",
    "    num = i \n",
    "    for j in range(count,n+1):\n",
    "        print(num,end=\"\") \n",
    "        num = num + 1\n",
    "    print()\n",
    "for i in range(n-1,0,-1):\n",
    "    count = 1\n",
    "    for j in range(1,i):\n",
    "        print(\" \",end=\"\") \n",
    "        count = count + 1\n",
    "    num = i \n",
    "    for j in range(count,n+1): \n",
    "        print(num,end=\"\")\n",
    "        num = num + 1 \n",
    "    print()"
   ]
  },
  {
   "cell_type": "markdown",
   "id": "02412ad8",
   "metadata": {},
   "source": [
    "Diamond of Stars"
   ]
  },
  {
   "cell_type": "code",
   "execution_count": 3,
   "id": "42a6e4a9",
   "metadata": {},
   "outputs": [
    {
     "name": "stdout",
     "output_type": "stream",
     "text": [
      "5\n",
      "  *\n",
      " ***\n",
      "*****\n",
      " ***\n",
      "  *\n"
     ]
    }
   ],
   "source": [
    "## Read input as specified in the question.\n",
    "## Print output as specified in the question.\n",
    "n=int(input())\n",
    "n1=(n//2)+1\n",
    "for i in range(1,n1+1):\n",
    "    for j in range(1,n1-i+1):\n",
    "        print(\" \",end=\"\")\n",
    "    for j in range(1,2*i):\n",
    "        print(\"*\",end=\"\")\n",
    "    print()\n",
    "n2=n-n1\n",
    "for i in range(n2,0,-1):\n",
    "    for j in range(1,n1-i+1):\n",
    "        print(\" \",end=\"\")\n",
    "    for j in range(1,2*i):\n",
    "        print(\"*\",end=\"\")\n",
    "    print()"
   ]
  },
  {
   "cell_type": "markdown",
   "id": "03dca659",
   "metadata": {},
   "source": [
    "Rectangular numbers"
   ]
  },
  {
   "cell_type": "code",
   "execution_count": 4,
   "id": "24b8576f",
   "metadata": {},
   "outputs": [
    {
     "name": "stdout",
     "output_type": "stream",
     "text": [
      "3\n",
      "33333\n",
      "32223\n",
      "32123\n",
      "32223\n",
      "33333\n"
     ]
    }
   ],
   "source": [
    "## Read input as specified in the question.\n",
    "## Print output as specified in the question.\n",
    "n = int(input())\n",
    "for i in range(1,n+1):\n",
    "    temp = n\n",
    "    for j in range(1,i):\n",
    "        print(temp,end=\"\")\n",
    "        temp = temp -1\n",
    "    for j in range(1,(2*n) - (2*i) + 2):\n",
    "        print(n-i+1,end=\"\")\n",
    "    for j in range(1,i):\n",
    "        temp = temp+1\n",
    "        print(temp,end=\"\")\n",
    "    print()\n",
    "for i in range(n-1,0,-1):\n",
    "    temp = n\n",
    "    for j in range(1,i):\n",
    "        print(temp,end=\"\")\n",
    "        temp = temp - 1 \n",
    "    for j in range(1,(2*n) - (2*i) + 2):\n",
    "        print(n-i+1,end=\"\")\n",
    "    for j in range(1,i):\n",
    "        temp = temp+1\n",
    "        print(temp,end=\"\")\n",
    "    print()"
   ]
  },
  {
   "cell_type": "markdown",
   "id": "2c726a77",
   "metadata": {},
   "source": [
    "Print the pattern\n",
    "Send Feedback\n",
    "Print the following pattern for the given number of rows.\n",
    "Pattern for N = 5\n",
    " 1    2   3    4   5\n",
    " 11   12  13   14  15\n",
    " 21   22  23   24  25\n",
    " 16   17  18   19  20\n",
    " 6    7    8   9   10"
   ]
  },
  {
   "cell_type": "code",
   "execution_count": 5,
   "id": "7f709cb2",
   "metadata": {},
   "outputs": [
    {
     "name": "stdout",
     "output_type": "stream",
     "text": [
      "4\n",
      "1 2 3 4 \n",
      "9 10 11 12 \n",
      "13 14 15 16 \n",
      "5 6 7 8 \n"
     ]
    }
   ],
   "source": [
    "n = int(input()) \n",
    "startValue = 1\n",
    "for i in range(1,n+1): \n",
    "    for j in range(startValue,startValue + n):\n",
    "        print(j,end=\" \")\n",
    "    print()\n",
    "    if(i==((n+1)//2)):\n",
    "        if((n%2)!=0):\n",
    "            startValue = n*(n-2)+1\n",
    "        else:\n",
    "            startValue = n*(n-1) + 1\n",
    "    elif((i>(n+1)//2)):\n",
    "        startValue = startValue - 2*n\n",
    "    else:\n",
    "        startValue = startValue + 2*n "
   ]
  }
 ],
 "metadata": {
  "kernelspec": {
   "display_name": "Python 3 (ipykernel)",
   "language": "python",
   "name": "python3"
  },
  "language_info": {
   "codemirror_mode": {
    "name": "ipython",
    "version": 3
   },
   "file_extension": ".py",
   "mimetype": "text/x-python",
   "name": "python",
   "nbconvert_exporter": "python",
   "pygments_lexer": "ipython3",
   "version": "3.9.12"
  }
 },
 "nbformat": 4,
 "nbformat_minor": 5
}
